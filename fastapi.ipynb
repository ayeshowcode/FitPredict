{
 "cells": [
  {
   "cell_type": "code",
   "execution_count": 2,
   "id": "4a3f6bdc",
   "metadata": {},
   "outputs": [],
   "source": [
    "import pandas as pd\n",
    "from sklearn.ensemble import RandomForestClassifier\n",
    "from sklearn.model_selection import train_test_split\n",
    "from sklearn.preprocessing import OneHotEncoder\n",
    "from sklearn.pipeline import Pipeline\n",
    "from sklearn.compose import ColumnTransformer\n",
    "from sklearn.metrics import classification_report, accuracy_score\n",
    "import numpy as np"
   ]
  },
  {
   "cell_type": "code",
   "execution_count": 5,
   "id": "4f87e46f",
   "metadata": {},
   "outputs": [],
   "source": [
    "df=pd.read_csv('data/fitness_data.csv')"
   ]
  },
  {
   "cell_type": "code",
   "execution_count": 6,
   "id": "bd108269",
   "metadata": {},
   "outputs": [
    {
     "data": {
      "text/html": [
       "<div>\n",
       "<style scoped>\n",
       "    .dataframe tbody tr th:only-of-type {\n",
       "        vertical-align: middle;\n",
       "    }\n",
       "\n",
       "    .dataframe tbody tr th {\n",
       "        vertical-align: top;\n",
       "    }\n",
       "\n",
       "    .dataframe thead th {\n",
       "        text-align: right;\n",
       "    }\n",
       "</style>\n",
       "<table border=\"1\" class=\"dataframe\">\n",
       "  <thead>\n",
       "    <tr style=\"text-align: right;\">\n",
       "      <th></th>\n",
       "      <th>age</th>\n",
       "      <th>weight</th>\n",
       "      <th>height</th>\n",
       "      <th>income_lpa</th>\n",
       "      <th>smoker</th>\n",
       "      <th>city</th>\n",
       "      <th>occupation</th>\n",
       "      <th>fitness_level</th>\n",
       "    </tr>\n",
       "  </thead>\n",
       "  <tbody>\n",
       "    <tr>\n",
       "      <th>41</th>\n",
       "      <td>65</td>\n",
       "      <td>62.1</td>\n",
       "      <td>1.63</td>\n",
       "      <td>3.87</td>\n",
       "      <td>False</td>\n",
       "      <td>Miami</td>\n",
       "      <td>retired</td>\n",
       "      <td>Low</td>\n",
       "    </tr>\n",
       "    <tr>\n",
       "      <th>1</th>\n",
       "      <td>34</td>\n",
       "      <td>68.1</td>\n",
       "      <td>1.78</td>\n",
       "      <td>28.65</td>\n",
       "      <td>False</td>\n",
       "      <td>New York</td>\n",
       "      <td>freelancer</td>\n",
       "      <td>High</td>\n",
       "    </tr>\n",
       "    <tr>\n",
       "      <th>2</th>\n",
       "      <td>27</td>\n",
       "      <td>72.9</td>\n",
       "      <td>1.80</td>\n",
       "      <td>24.87</td>\n",
       "      <td>False</td>\n",
       "      <td>San Diego</td>\n",
       "      <td>software_engineer</td>\n",
       "      <td>Medium</td>\n",
       "    </tr>\n",
       "    <tr>\n",
       "      <th>77</th>\n",
       "      <td>67</td>\n",
       "      <td>113.5</td>\n",
       "      <td>1.73</td>\n",
       "      <td>0.61</td>\n",
       "      <td>True</td>\n",
       "      <td>Chicago</td>\n",
       "      <td>retired</td>\n",
       "      <td>Low</td>\n",
       "    </tr>\n",
       "    <tr>\n",
       "      <th>50</th>\n",
       "      <td>55</td>\n",
       "      <td>67.2</td>\n",
       "      <td>1.88</td>\n",
       "      <td>25.23</td>\n",
       "      <td>True</td>\n",
       "      <td>Miami</td>\n",
       "      <td>private_job</td>\n",
       "      <td>High</td>\n",
       "    </tr>\n",
       "  </tbody>\n",
       "</table>\n",
       "</div>"
      ],
      "text/plain": [
       "    age  weight  height  income_lpa  smoker       city         occupation  \\\n",
       "41   65    62.1    1.63        3.87   False      Miami            retired   \n",
       "1    34    68.1    1.78       28.65   False   New York         freelancer   \n",
       "2    27    72.9    1.80       24.87   False  San Diego  software_engineer   \n",
       "77   67   113.5    1.73        0.61    True    Chicago            retired   \n",
       "50   55    67.2    1.88       25.23    True      Miami        private_job   \n",
       "\n",
       "   fitness_level  \n",
       "41           Low  \n",
       "1           High  \n",
       "2         Medium  \n",
       "77           Low  \n",
       "50          High  "
      ]
     },
     "execution_count": 6,
     "metadata": {},
     "output_type": "execute_result"
    }
   ],
   "source": [
    "df.sample(5)"
   ]
  },
  {
   "cell_type": "code",
   "execution_count": 7,
   "id": "67c8d947",
   "metadata": {},
   "outputs": [
    {
     "data": {
      "text/plain": [
       "occupation\n",
       "retired              26\n",
       "unemployed           15\n",
       "student              12\n",
       "private_job          12\n",
       "business_owner       10\n",
       "government_job        9\n",
       "freelancer            9\n",
       "teacher               4\n",
       "software_engineer     1\n",
       "entrepreneur          1\n",
       "manager               1\n",
       "Name: count, dtype: int64"
      ]
     },
     "execution_count": 7,
     "metadata": {},
     "output_type": "execute_result"
    }
   ],
   "source": [
    "df['occupation'].value_counts()"
   ]
  },
  {
   "cell_type": "code",
   "execution_count": 8,
   "id": "6ad2a5b0",
   "metadata": {},
   "outputs": [
    {
     "data": {
      "text/plain": [
       "array(['retired', 'freelancer', 'software_engineer', 'student',\n",
       "       'business_owner', 'teacher', 'entrepreneur', 'private_job',\n",
       "       'government_job', 'manager', 'unemployed'], dtype=object)"
      ]
     },
     "execution_count": 8,
     "metadata": {},
     "output_type": "execute_result"
    }
   ],
   "source": [
    "df['occupation'].unique()"
   ]
  },
  {
   "cell_type": "code",
   "execution_count": 9,
   "id": "06b999c3",
   "metadata": {},
   "outputs": [],
   "source": [
    "def age_group(age):\n",
    "    if age < 18:\n",
    "        return 'teen'\n",
    "    elif 18 <= age < 30:\n",
    "        return 'young_adult'\n",
    "    elif 30 <= age < 50:\n",
    "        return 'adult'\n",
    "    else:\n",
    "        return 'senior'"
   ]
  },
  {
   "cell_type": "code",
   "execution_count": 10,
   "id": "fdcdd887",
   "metadata": {},
   "outputs": [],
   "source": [
    "df_feat=df.copy()"
   ]
  },
  {
   "cell_type": "markdown",
   "id": "95de03a6",
   "metadata": {},
   "source": [
    "### Feature 1 BMI"
   ]
  },
  {
   "cell_type": "code",
   "execution_count": 11,
   "id": "19e98eec",
   "metadata": {},
   "outputs": [],
   "source": [
    "df_feat['bmi']=df_feat['weight']/(df_feat['height']/100)**2"
   ]
  },
  {
   "cell_type": "markdown",
   "id": "dada3eb0",
   "metadata": {},
   "source": [
    "### Feature 2: age group"
   ]
  },
  {
   "cell_type": "code",
   "execution_count": 12,
   "id": "41f75609",
   "metadata": {},
   "outputs": [],
   "source": [
    "df_feat['age_group']=df_feat['age'].apply(age_group)"
   ]
  },
  {
   "cell_type": "markdown",
   "id": "eb1f5e40",
   "metadata": {},
   "source": [
    "### Feature 3: Income Category"
   ]
  },
  {
   "cell_type": "code",
   "execution_count": 15,
   "id": "3d648b35",
   "metadata": {},
   "outputs": [],
   "source": [
    "def income_category(income):\n",
    "    if income < 10:\n",
    "        return 'low'\n",
    "    elif 10 <= income < 30:\n",
    "        return 'medium'\n",
    "    else:\n",
    "        return 'high'\n",
    "\n",
    "df_feat['income_category'] = df_feat['income_lpa'].apply(income_category)"
   ]
  },
  {
   "cell_type": "code",
   "execution_count": 16,
   "id": "d2f22d31",
   "metadata": {},
   "outputs": [
    {
     "data": {
      "text/html": [
       "<div>\n",
       "<style scoped>\n",
       "    .dataframe tbody tr th:only-of-type {\n",
       "        vertical-align: middle;\n",
       "    }\n",
       "\n",
       "    .dataframe tbody tr th {\n",
       "        vertical-align: top;\n",
       "    }\n",
       "\n",
       "    .dataframe thead th {\n",
       "        text-align: right;\n",
       "    }\n",
       "</style>\n",
       "<table border=\"1\" class=\"dataframe\">\n",
       "  <thead>\n",
       "    <tr style=\"text-align: right;\">\n",
       "      <th></th>\n",
       "      <th>income_lpa</th>\n",
       "      <th>income_category</th>\n",
       "    </tr>\n",
       "  </thead>\n",
       "  <tbody>\n",
       "    <tr>\n",
       "      <th>35</th>\n",
       "      <td>40.64</td>\n",
       "      <td>high</td>\n",
       "    </tr>\n",
       "    <tr>\n",
       "      <th>62</th>\n",
       "      <td>35.67</td>\n",
       "      <td>high</td>\n",
       "    </tr>\n",
       "    <tr>\n",
       "      <th>39</th>\n",
       "      <td>12.54</td>\n",
       "      <td>medium</td>\n",
       "    </tr>\n",
       "    <tr>\n",
       "      <th>28</th>\n",
       "      <td>12.34</td>\n",
       "      <td>medium</td>\n",
       "    </tr>\n",
       "    <tr>\n",
       "      <th>70</th>\n",
       "      <td>0.57</td>\n",
       "      <td>low</td>\n",
       "    </tr>\n",
       "    <tr>\n",
       "      <th>14</th>\n",
       "      <td>14.02</td>\n",
       "      <td>medium</td>\n",
       "    </tr>\n",
       "    <tr>\n",
       "      <th>59</th>\n",
       "      <td>1.13</td>\n",
       "      <td>low</td>\n",
       "    </tr>\n",
       "    <tr>\n",
       "      <th>58</th>\n",
       "      <td>3.31</td>\n",
       "      <td>low</td>\n",
       "    </tr>\n",
       "    <tr>\n",
       "      <th>92</th>\n",
       "      <td>30.00</td>\n",
       "      <td>high</td>\n",
       "    </tr>\n",
       "    <tr>\n",
       "      <th>47</th>\n",
       "      <td>8.34</td>\n",
       "      <td>low</td>\n",
       "    </tr>\n",
       "  </tbody>\n",
       "</table>\n",
       "</div>"
      ],
      "text/plain": [
       "    income_lpa income_category\n",
       "35       40.64            high\n",
       "62       35.67            high\n",
       "39       12.54          medium\n",
       "28       12.34          medium\n",
       "70        0.57             low\n",
       "14       14.02          medium\n",
       "59        1.13             low\n",
       "58        3.31             low\n",
       "92       30.00            high\n",
       "47        8.34             low"
      ]
     },
     "execution_count": 16,
     "metadata": {},
     "output_type": "execute_result"
    }
   ],
   "source": [
    "# Verify the new feature\n",
    "df_feat[['income_lpa', 'income_category']].sample(10)"
   ]
  },
  {
   "cell_type": "code",
   "execution_count": 20,
   "id": "33d8483c",
   "metadata": {},
   "outputs": [],
   "source": [
    "# Define region/city categories (corrected)\n",
    "tier_1_cities = [\"New York\", \"Los Angeles\", \"Chicago\", \"Houston\", \"Phoenix\", \"San Antonio\", \n",
    "                 \"San Diego\", \"Dallas\", \"San Francisco\", \"Seattle\", \"Boston\", \"Miami\"]\n",
    "tier_2_cities = [\n",
    "    \"Denver\", \"Atlanta\", \"Portland\", \"Austin\",\n",
    "    \"Tampa\", \"Minneapolis\", \"Detroit\", \"Charlotte\", \"Las Vegas\", \"Philadelphia\", \"Nashville\",\n",
    "    \"Kansas City\", \"Indianapolis\", \"Cleveland\", \"Baltimore\", \"Orlando\"\n",
    "]"
   ]
  },
  {
   "cell_type": "code",
   "execution_count": 18,
   "id": "e3d359f8",
   "metadata": {},
   "outputs": [
    {
     "name": "stdout",
     "output_type": "stream",
     "text": [
      "Cities in dataset: ['Atlanta', 'Boston', 'Chicago', 'Dallas', 'Denver', 'Houston', 'Las Vegas', 'Los Angeles', 'Miami', 'New York', 'Orlando', 'Phoenix', 'Portland', 'San Diego', 'San Francisco', 'Seattle']\n",
      "\n",
      "Cities covered in tiers: ['Atlanta', 'Austin', 'Baltimore', 'Boston', 'Charlotte', 'Chicago', 'Cleveland', 'Dallas', 'Denver', 'Detroit', 'Houston', 'Indianapolis', 'Kansas City', 'Las Vegas', 'Los Angeles', 'Miami', 'Minneapolis', 'Nashville', 'New York', 'Orlando', 'Philadelphia', 'Phoenix', 'Portland', 'San Diego', 'San Francisco', 'Seattle', 'Tampa']\n",
      "\n",
      "Missing cities (in data but not in tiers): []\n",
      "\n",
      "Extra cities (in tiers but not in data): ['Austin', 'Baltimore', 'Charlotte', 'Cleveland', 'Detroit', 'Indianapolis', 'Kansas City', 'Minneapolis', 'Nashville', 'Philadelphia', 'Tampa']\n"
     ]
    }
   ],
   "source": [
    "# Check which cities are in the dataset\n",
    "cities_in_data = set(df_feat['city'].unique())\n",
    "cities_in_tiers = set(tier_1_cities + tier_2_cities)\n",
    "\n",
    "print(\"Cities in dataset:\", sorted(cities_in_data))\n",
    "print(\"\\nCities covered in tiers:\", sorted(cities_in_tiers))\n",
    "print(\"\\nMissing cities (in data but not in tiers):\", sorted(cities_in_data - cities_in_tiers))\n",
    "print(\"\\nExtra cities (in tiers but not in data):\", sorted(cities_in_tiers - cities_in_data))"
   ]
  },
  {
   "cell_type": "code",
   "execution_count": null,
   "id": "cde3ec69",
   "metadata": {},
   "outputs": [
    {
     "name": "stdout",
     "output_type": "stream",
     "text": [
      "Current Tier 1 cities in dataset: ['Chicago', 'Dallas', 'Houston', 'Los Angeles', 'Miami', 'New York', 'San Francisco']\n",
      "Current Tier 2 cities in dataset: ['Atlanta', 'Boston', 'Denver', 'Las Vegas', 'Orlando', 'Phoenix', 'Portland', 'San Diego', 'Seattle']\n"
     ]
    }
   ],
   "source": [
    "# Verify corrected tier assignments\n",
    "current_tier_1 = sorted([city for city in cities_in_data if city in tier_1_cities])\n",
    "current_tier_2 = sorted([city for city in cities_in_data if city in tier_2_cities])\n",
    "\n",
    "print(\"✅ CORRECTED Tier 1 cities in dataset:\", current_tier_1)\n",
    "print(f\"   Count: {len(current_tier_1)}\")\n",
    "print(\"\\n✅ CORRECTED Tier 2 cities in dataset:\", current_tier_2)\n",
    "print(f\"   Count: {len(current_tier_2)}\")\n",
    "print(f\"\\n📊 Total cities covered: {len(current_tier_1) + len(current_tier_2)}/{len(cities_in_data)}\")"
   ]
  }
 ],
 "metadata": {
  "kernelspec": {
   "display_name": ".venv",
   "language": "python",
   "name": "python3"
  },
  "language_info": {
   "codemirror_mode": {
    "name": "ipython",
    "version": 3
   },
   "file_extension": ".py",
   "mimetype": "text/x-python",
   "name": "python",
   "nbconvert_exporter": "python",
   "pygments_lexer": "ipython3",
   "version": "3.13.1"
  }
 },
 "nbformat": 4,
 "nbformat_minor": 5
}
